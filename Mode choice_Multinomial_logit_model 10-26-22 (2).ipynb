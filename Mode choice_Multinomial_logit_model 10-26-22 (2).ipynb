{
 "cells": [
  {
   "cell_type": "markdown",
   "id": "6d0e3b95",
   "metadata": {},
   "source": [
    "# Mode choice Model "
   ]
  },
  {
   "cell_type": "code",
   "execution_count": 1,
   "id": "20ded736",
   "metadata": {},
   "outputs": [],
   "source": [
    "#Importing some library\n",
    "import random\n",
    "import numpy as np\n",
    "import warnings\n",
    "from matplotlib import pyplot as plt\n",
    "%matplotlib inline\n",
    "warnings.filterwarnings('ignore')\n",
    "import pandas as pd\n",
    "import seaborn as sns\n",
    "from sklearn.model_selection import train_test_split\n",
    "from math import exp\n",
    "plt.rcParams[\"figure.figsize\"] = (10, 6)\n",
    "from sklearn import datasets\n",
    "from sklearn.preprocessing import StandardScaler\n",
    "from sklearn.model_selection import train_test_split\n",
    "from sklearn.pipeline import make_pipeline\n",
    "from sklearn.ensemble import GradientBoostingRegressor\n",
    "from sklearn.decomposition import PCA\n",
    "from sklearn.metrics import mean_squared_error"
   ]
  },
  {
   "cell_type": "code",
   "execution_count": 2,
   "id": "04cc6204",
   "metadata": {},
   "outputs": [
    {
     "data": {
      "text/html": [
       "<div>\n",
       "<style scoped>\n",
       "    .dataframe tbody tr th:only-of-type {\n",
       "        vertical-align: middle;\n",
       "    }\n",
       "\n",
       "    .dataframe tbody tr th {\n",
       "        vertical-align: top;\n",
       "    }\n",
       "\n",
       "    .dataframe thead th {\n",
       "        text-align: right;\n",
       "    }\n",
       "</style>\n",
       "<table border=\"1\" class=\"dataframe\">\n",
       "  <thead>\n",
       "    <tr style=\"text-align: right;\">\n",
       "      <th></th>\n",
       "      <th>activity_id</th>\n",
       "      <th>primary_mode</th>\n",
       "      <th>trip_duration_minutes</th>\n",
       "      <th>trip_distance_miles</th>\n",
       "      <th>trip_taker_wfh</th>\n",
       "      <th>trip_taker_commute_mode</th>\n",
       "      <th>trip_taker_household_size</th>\n",
       "      <th>trip_taker_household_income</th>\n",
       "    </tr>\n",
       "  </thead>\n",
       "  <tbody>\n",
       "    <tr>\n",
       "      <th>0</th>\n",
       "      <td>17570944395902961585</td>\n",
       "      <td>private_auto</td>\n",
       "      <td>38</td>\n",
       "      <td>12.4</td>\n",
       "      <td>in_person</td>\n",
       "      <td>private_auto</td>\n",
       "      <td>4</td>\n",
       "      <td>85254</td>\n",
       "    </tr>\n",
       "    <tr>\n",
       "      <th>1</th>\n",
       "      <td>8842227793416712896</td>\n",
       "      <td>private_auto</td>\n",
       "      <td>145</td>\n",
       "      <td>26.1</td>\n",
       "      <td>in_person</td>\n",
       "      <td>private_auto</td>\n",
       "      <td>2</td>\n",
       "      <td>413820</td>\n",
       "    </tr>\n",
       "    <tr>\n",
       "      <th>2</th>\n",
       "      <td>4595341411345992267</td>\n",
       "      <td>carpool</td>\n",
       "      <td>89</td>\n",
       "      <td>18.9</td>\n",
       "      <td>unemployed_under_16_not_in_labor_force</td>\n",
       "      <td>other_travel_mode</td>\n",
       "      <td>5</td>\n",
       "      <td>280814</td>\n",
       "    </tr>\n",
       "    <tr>\n",
       "      <th>3</th>\n",
       "      <td>5018335850175263529</td>\n",
       "      <td>private_auto</td>\n",
       "      <td>35</td>\n",
       "      <td>11.3</td>\n",
       "      <td>in_person</td>\n",
       "      <td>private_auto</td>\n",
       "      <td>6</td>\n",
       "      <td>86848</td>\n",
       "    </tr>\n",
       "    <tr>\n",
       "      <th>4</th>\n",
       "      <td>10844037359882971686</td>\n",
       "      <td>private_auto</td>\n",
       "      <td>39</td>\n",
       "      <td>11.3</td>\n",
       "      <td>remote</td>\n",
       "      <td>\\N</td>\n",
       "      <td>2</td>\n",
       "      <td>62918</td>\n",
       "    </tr>\n",
       "  </tbody>\n",
       "</table>\n",
       "</div>"
      ],
      "text/plain": [
       "            activity_id  primary_mode  trip_duration_minutes  \\\n",
       "0  17570944395902961585  private_auto                     38   \n",
       "1   8842227793416712896  private_auto                    145   \n",
       "2   4595341411345992267       carpool                     89   \n",
       "3   5018335850175263529  private_auto                     35   \n",
       "4  10844037359882971686  private_auto                     39   \n",
       "\n",
       "   trip_distance_miles                          trip_taker_wfh  \\\n",
       "0                 12.4                               in_person   \n",
       "1                 26.1                               in_person   \n",
       "2                 18.9  unemployed_under_16_not_in_labor_force   \n",
       "3                 11.3                               in_person   \n",
       "4                 11.3                                  remote   \n",
       "\n",
       "  trip_taker_commute_mode trip_taker_household_size  \\\n",
       "0            private_auto                         4   \n",
       "1            private_auto                         2   \n",
       "2       other_travel_mode                         5   \n",
       "3            private_auto                         6   \n",
       "4                      \\N                         2   \n",
       "\n",
       "  trip_taker_household_income  \n",
       "0                       85254  \n",
       "1                      413820  \n",
       "2                      280814  \n",
       "3                       86848  \n",
       "4                       62918  "
      ]
     },
     "execution_count": 2,
     "metadata": {},
     "output_type": "execute_result"
    }
   ],
   "source": [
    "#import data\n",
    "df=pd.read_csv('replica-telework_dc-10_26_22-trips_dataset.csv')\n",
    "df.head()"
   ]
  },
  {
   "cell_type": "code",
   "execution_count": null,
   "id": "04461487",
   "metadata": {},
   "outputs": [],
   "source": [
    "#sns.heatmap(df.isnull())\n",
    "# we can drop the 'trip_taker_commute_mode ' and 'trip_taker_wfh ' for now\n",
    "df.drop(columns = 'trip_taker_wfh', inplace=True)\n",
    "df.drop(columns = 'trip_taker_commute_mode', inplace=True)"
   ]
  },
  {
   "cell_type": "code",
   "execution_count": null,
   "id": "cede7a8c",
   "metadata": {},
   "outputs": [],
   "source": [
    "# we can drop the first column as it is just the index\n",
    "df.drop(columns = 'activity_id', inplace=True)"
   ]
  },
  {
   "cell_type": "code",
   "execution_count": null,
   "id": "970218d2",
   "metadata": {},
   "outputs": [],
   "source": [
    "df"
   ]
  },
  {
   "cell_type": "code",
   "execution_count": null,
   "id": "8179887b",
   "metadata": {},
   "outputs": [],
   "source": [
    "df.info()"
   ]
  },
  {
   "cell_type": "code",
   "execution_count": null,
   "id": "44cf44b0",
   "metadata": {},
   "outputs": [],
   "source": [
    "df.trip_taker_commute_mode.unique()"
   ]
  },
  {
   "cell_type": "code",
   "execution_count": null,
   "id": "67f9c5cb",
   "metadata": {},
   "outputs": [],
   "source": [
    "df['trip_taker_commute_mode'].mask(df['trip_taker_commute_mode'] == 'private_auto', 0, inplace=True)\n",
    "df['trip_taker_commute_mode'].mask(df['trip_taker_commute_mode'] == 'other_travel_mode', 1, inplace=True)\n",
    "df['trip_taker_commute_mode'].mask(df['trip_taker_commute_mode'] == 'biking', 2, inplace=True)\n",
    "df['trip_taker_commute_mode'].mask(df['trip_taker_commute_mode'] == 'carpool', 3, inplace=True)\n",
    "df['trip_taker_commute_mode'].mask(df['trip_taker_commute_mode'] == 'ON_DEMAND_AUTO', 4, inplace=True)\n",
    "df['trip_taker_commute_mode'].mask(df['trip_taker_commute_mode'] == 'public_transit', 5, inplace=True)\n",
    "df['trip_taker_commute_mode'].mask(df['trip_taker_commute_mode'] == 'walking', 6, inplace=True)\n",
    "df['trip_taker_commute_mode'].mask(df['trip_taker_commute_mode'] == '\\\\N', 1, inplace=True)\n"
   ]
  },
  {
   "cell_type": "code",
   "execution_count": null,
   "id": "75455760",
   "metadata": {},
   "outputs": [],
   "source": [
    "df['trip_taker_commute_mode'] = df['trip_taker_commute_mode'].astype(int)"
   ]
  },
  {
   "cell_type": "code",
   "execution_count": null,
   "id": "cc220872",
   "metadata": {},
   "outputs": [],
   "source": [
    "df.trip_taker_household_size.unique()"
   ]
  },
  {
   "cell_type": "code",
   "execution_count": null,
   "id": "055fba04",
   "metadata": {},
   "outputs": [],
   "source": [
    "df['trip_taker_household_size'].mask(df['trip_taker_household_size'] == '\\\\N', 0, inplace=True)\n"
   ]
  },
  {
   "cell_type": "code",
   "execution_count": null,
   "id": "3f0e050a",
   "metadata": {},
   "outputs": [],
   "source": [
    "df.trip_taker_household_size.unique()"
   ]
  },
  {
   "cell_type": "code",
   "execution_count": null,
   "id": "ed5e22ba",
   "metadata": {},
   "outputs": [],
   "source": [
    "df['trip_taker_household_size'] = df['trip_taker_household_size'].astype(int)"
   ]
  },
  {
   "cell_type": "code",
   "execution_count": null,
   "id": "862a2480",
   "metadata": {},
   "outputs": [],
   "source": [
    "df.trip_taker_household_income.unique()"
   ]
  },
  {
   "cell_type": "code",
   "execution_count": null,
   "id": "a9618ad8",
   "metadata": {},
   "outputs": [],
   "source": [
    "df['trip_taker_household_income'].mask(df['trip_taker_household_income'] == '\\\\N', 0, inplace=True)"
   ]
  },
  {
   "cell_type": "code",
   "execution_count": null,
   "id": "428617fb",
   "metadata": {},
   "outputs": [],
   "source": [
    "df['trip_taker_household_income'] = df['trip_taker_household_income'].astype(int)"
   ]
  },
  {
   "cell_type": "code",
   "execution_count": null,
   "id": "dc59f5ce",
   "metadata": {},
   "outputs": [],
   "source": [
    "df.info()"
   ]
  },
  {
   "cell_type": "code",
   "execution_count": null,
   "id": "6533a2b7",
   "metadata": {},
   "outputs": [],
   "source": [
    "X=pd.DataFrame(df,columns=['trip_duration_minutes', 'trip_distance_miles', 'trip_taker_household_size', 'trip_taker_household_income'])             \n",
    "y=pd.DataFrame(df,columns=['trip_taker_commute_mode'])"
   ]
  },
  {
   "cell_type": "code",
   "execution_count": null,
   "id": "dc6a6000",
   "metadata": {},
   "outputs": [],
   "source": [
    "#load all necessary libraries\n",
    "import pandas as pd \n",
    "import numpy as np \n",
    "import scipy as scp\n",
    "import sklearn\n",
    "\n",
    "from sklearn.model_selection import train_test_split\n",
    "from sklearn.linear_model import LogisticRegression\n",
    "from sklearn.metrics import classification_report\n",
    "from sklearn import metrics \n",
    "from sklearn.metrics import confusion_matrix\n",
    "\n",
    "\n",
    "import statsmodels.api as sm\n",
    "import matplotlib.pyplot as plt"
   ]
  },
  {
   "cell_type": "code",
   "execution_count": null,
   "id": "8f526072",
   "metadata": {},
   "outputs": [],
   "source": [
    "X_train, X_test, y_train, y_test = sklearn.model_selection.train_test_split(X, y, test_size = 0.20, random_state = 5)\n"
   ]
  },
  {
   "cell_type": "code",
   "execution_count": null,
   "id": "82d6edd5",
   "metadata": {},
   "outputs": [],
   "source": [
    "#Use statsmodels to assess variables\n",
    "\n",
    "logit_model=sm.MNLogit(y_train,sm.add_constant(X_train))\n",
    "logit_model\n",
    "result=logit_model.fit_regularized()\n",
    "\n"
   ]
  },
  {
   "cell_type": "code",
   "execution_count": null,
   "id": "4a12fd20",
   "metadata": {},
   "outputs": [],
   "source": [
    "stats1=result.summary()\n",
    "\n",
    "print(stats1)\n"
   ]
  },
  {
   "cell_type": "code",
   "execution_count": null,
   "id": "17e7d893",
   "metadata": {},
   "outputs": [],
   "source": []
  },
  {
   "cell_type": "code",
   "execution_count": null,
   "id": "8603f4c2",
   "metadata": {},
   "outputs": [],
   "source": []
  },
  {
   "cell_type": "code",
   "execution_count": null,
   "id": "37033222",
   "metadata": {},
   "outputs": [],
   "source": []
  },
  {
   "cell_type": "code",
   "execution_count": 30,
   "id": "f1a13e2d",
   "metadata": {},
   "outputs": [],
   "source": []
  },
  {
   "cell_type": "code",
   "execution_count": null,
   "id": "6af217e4",
   "metadata": {},
   "outputs": [],
   "source": []
  },
  {
   "cell_type": "code",
   "execution_count": null,
   "id": "93e50cf6",
   "metadata": {},
   "outputs": [],
   "source": []
  },
  {
   "cell_type": "code",
   "execution_count": null,
   "id": "78ebdf57",
   "metadata": {},
   "outputs": [],
   "source": []
  },
  {
   "cell_type": "code",
   "execution_count": null,
   "id": "ad988ac2",
   "metadata": {},
   "outputs": [],
   "source": []
  },
  {
   "cell_type": "code",
   "execution_count": null,
   "id": "3a341173",
   "metadata": {},
   "outputs": [],
   "source": []
  },
  {
   "cell_type": "code",
   "execution_count": null,
   "id": "baf2f26f",
   "metadata": {},
   "outputs": [],
   "source": []
  },
  {
   "cell_type": "code",
   "execution_count": null,
   "id": "764c2e67",
   "metadata": {},
   "outputs": [],
   "source": []
  }
 ],
 "metadata": {
  "kernelspec": {
   "display_name": "Python 3 (ipykernel)",
   "language": "python",
   "name": "python3"
  },
  "language_info": {
   "codemirror_mode": {
    "name": "ipython",
    "version": 3
   },
   "file_extension": ".py",
   "mimetype": "text/x-python",
   "name": "python",
   "nbconvert_exporter": "python",
   "pygments_lexer": "ipython3",
   "version": "3.9.12"
  }
 },
 "nbformat": 4,
 "nbformat_minor": 5
}
